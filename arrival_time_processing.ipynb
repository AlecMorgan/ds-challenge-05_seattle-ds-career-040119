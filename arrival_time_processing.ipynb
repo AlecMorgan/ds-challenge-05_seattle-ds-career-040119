{
 "cells": [
  {
   "cell_type": "code",
   "execution_count": 3,
   "metadata": {},
   "outputs": [],
   "source": [
    "import pandas as pd"
   ]
  },
  {
   "cell_type": "code",
   "execution_count": 4,
   "metadata": {},
   "outputs": [],
   "source": [
    "arrival_times = pd.read_csv('data.csv')"
   ]
  },
  {
   "cell_type": "code",
   "execution_count": 5,
   "metadata": {},
   "outputs": [
    {
     "data": {
      "text/html": [
       "<div>\n",
       "<style scoped>\n",
       "    .dataframe tbody tr th:only-of-type {\n",
       "        vertical-align: middle;\n",
       "    }\n",
       "\n",
       "    .dataframe tbody tr th {\n",
       "        vertical-align: top;\n",
       "    }\n",
       "\n",
       "    .dataframe thead th {\n",
       "        text-align: right;\n",
       "    }\n",
       "</style>\n",
       "<table border=\"1\" class=\"dataframe\">\n",
       "  <thead>\n",
       "    <tr style=\"text-align: right;\">\n",
       "      <th></th>\n",
       "      <th>day_0</th>\n",
       "      <th>day_1</th>\n",
       "      <th>day_2</th>\n",
       "      <th>day_3</th>\n",
       "      <th>day_4</th>\n",
       "      <th>day_5</th>\n",
       "    </tr>\n",
       "  </thead>\n",
       "  <tbody>\n",
       "    <tr>\n",
       "      <th>0</th>\n",
       "      <td>8:56 AM</td>\n",
       "      <td>9:00 AM</td>\n",
       "      <td>7:45 AM</td>\n",
       "      <td>7:45 AM</td>\n",
       "      <td>8:05 AM</td>\n",
       "      <td>7:45 AM</td>\n",
       "    </tr>\n",
       "    <tr>\n",
       "      <th>1</th>\n",
       "      <td>8:40 AM</td>\n",
       "      <td>8:40 AM</td>\n",
       "      <td>8:30 AM</td>\n",
       "      <td>8:30 AM</td>\n",
       "      <td>8:45 AM</td>\n",
       "      <td>8:20 AM</td>\n",
       "    </tr>\n",
       "    <tr>\n",
       "      <th>2</th>\n",
       "      <td>8:45 AM</td>\n",
       "      <td>8:20 AM</td>\n",
       "      <td>8:05 AM</td>\n",
       "      <td>8:00 AM</td>\n",
       "      <td>8:05 AM</td>\n",
       "      <td>8:00 AM</td>\n",
       "    </tr>\n",
       "    <tr>\n",
       "      <th>3</th>\n",
       "      <td>8:40 AM</td>\n",
       "      <td>8:40 AM</td>\n",
       "      <td>8:40 AM</td>\n",
       "      <td>8:25 AM</td>\n",
       "      <td>8:40 AM</td>\n",
       "      <td>8:40 AM</td>\n",
       "    </tr>\n",
       "    <tr>\n",
       "      <th>4</th>\n",
       "      <td>8:55 AM</td>\n",
       "      <td>8:50 AM</td>\n",
       "      <td>8:55 AM</td>\n",
       "      <td>8:10 AM</td>\n",
       "      <td>8:15 AM</td>\n",
       "      <td>8:05 AM</td>\n",
       "    </tr>\n",
       "    <tr>\n",
       "      <th>5</th>\n",
       "      <td>8:45 AM</td>\n",
       "      <td>8:45 AM</td>\n",
       "      <td>8:45 AM</td>\n",
       "      <td>8:40 AM</td>\n",
       "      <td>8:30 AM</td>\n",
       "      <td>8:40 AM</td>\n",
       "    </tr>\n",
       "    <tr>\n",
       "      <th>6</th>\n",
       "      <td>8:45 AM</td>\n",
       "      <td>8:54 AM</td>\n",
       "      <td>8:38 AM</td>\n",
       "      <td>8:40 AM</td>\n",
       "      <td>8:32 AM</td>\n",
       "      <td>8:41 AM</td>\n",
       "    </tr>\n",
       "    <tr>\n",
       "      <th>7</th>\n",
       "      <td>absent</td>\n",
       "      <td>11:00 AM</td>\n",
       "      <td>8:35 AM</td>\n",
       "      <td>8:15 AM</td>\n",
       "      <td>8:10 AM</td>\n",
       "      <td>8:10 AM</td>\n",
       "    </tr>\n",
       "    <tr>\n",
       "      <th>8</th>\n",
       "      <td>8:39 AM</td>\n",
       "      <td>8:13 AM</td>\n",
       "      <td>8:15 AM</td>\n",
       "      <td>8:12 AM</td>\n",
       "      <td>8:10 AM</td>\n",
       "      <td>8:00 AM</td>\n",
       "    </tr>\n",
       "    <tr>\n",
       "      <th>9</th>\n",
       "      <td>9:00 AM</td>\n",
       "      <td>8:50 AM</td>\n",
       "      <td>8:50 AM</td>\n",
       "      <td>8:50 AM</td>\n",
       "      <td>8:40 AM</td>\n",
       "      <td>8:45 AM</td>\n",
       "    </tr>\n",
       "    <tr>\n",
       "      <th>10</th>\n",
       "      <td>8:40 AM</td>\n",
       "      <td>8:50 AM</td>\n",
       "      <td>8:40 AM</td>\n",
       "      <td>8:34 AM</td>\n",
       "      <td>8:20 AM</td>\n",
       "      <td>8:30 AM</td>\n",
       "    </tr>\n",
       "    <tr>\n",
       "      <th>11</th>\n",
       "      <td>8:15 AM</td>\n",
       "      <td>8:30 AM</td>\n",
       "      <td>8:13 AM</td>\n",
       "      <td>8:30 AM</td>\n",
       "      <td>7:45 AM</td>\n",
       "      <td>8:40 AM</td>\n",
       "    </tr>\n",
       "    <tr>\n",
       "      <th>12</th>\n",
       "      <td>8:45 AM</td>\n",
       "      <td>8:55 AM</td>\n",
       "      <td>8:45 AM</td>\n",
       "      <td>8:45 AM</td>\n",
       "      <td>8:00 AM</td>\n",
       "      <td>8:45 AM</td>\n",
       "    </tr>\n",
       "    <tr>\n",
       "      <th>13</th>\n",
       "      <td>8:45 AM</td>\n",
       "      <td>8:45 AM</td>\n",
       "      <td>8:05 AM</td>\n",
       "      <td>8:00 AM</td>\n",
       "      <td>8:00 AM</td>\n",
       "      <td>8:00 AM</td>\n",
       "    </tr>\n",
       "    <tr>\n",
       "      <th>14</th>\n",
       "      <td>8:45 AM</td>\n",
       "      <td>8:45 AM</td>\n",
       "      <td>9:00 AM</td>\n",
       "      <td>9:00 AM</td>\n",
       "      <td>8:50 AM</td>\n",
       "      <td>9:00 AM</td>\n",
       "    </tr>\n",
       "    <tr>\n",
       "      <th>15</th>\n",
       "      <td>8:15 AM</td>\n",
       "      <td>8:40 AM</td>\n",
       "      <td>8:25 AM</td>\n",
       "      <td>8:30 AM</td>\n",
       "      <td>7:30 AM</td>\n",
       "      <td>8:25 AM</td>\n",
       "    </tr>\n",
       "    <tr>\n",
       "      <th>16</th>\n",
       "      <td>8:45 AM</td>\n",
       "      <td>8:40 AM</td>\n",
       "      <td>8:45 AM</td>\n",
       "      <td>8:55 AM</td>\n",
       "      <td>8:45 AM</td>\n",
       "      <td>8:45 AM</td>\n",
       "    </tr>\n",
       "    <tr>\n",
       "      <th>17</th>\n",
       "      <td>8:45 AM</td>\n",
       "      <td>9:00 AM</td>\n",
       "      <td>9:00 AM</td>\n",
       "      <td>9:00 AM</td>\n",
       "      <td>9:00 AM</td>\n",
       "      <td>9:00 AM</td>\n",
       "    </tr>\n",
       "    <tr>\n",
       "      <th>18</th>\n",
       "      <td>8:50 AM</td>\n",
       "      <td>8:50 AM</td>\n",
       "      <td>8:57 AM</td>\n",
       "      <td>8:42 AM</td>\n",
       "      <td>8:35 AM</td>\n",
       "      <td>8:30 AM</td>\n",
       "    </tr>\n",
       "    <tr>\n",
       "      <th>19</th>\n",
       "      <td>8:15 AM</td>\n",
       "      <td>9:00 AM</td>\n",
       "      <td>8:35 AM</td>\n",
       "      <td>9:00 AM</td>\n",
       "      <td>8:58 AM</td>\n",
       "      <td>8:20 AM</td>\n",
       "    </tr>\n",
       "    <tr>\n",
       "      <th>20</th>\n",
       "      <td>8:45 AM</td>\n",
       "      <td>8:35 AM</td>\n",
       "      <td>8:27 AM</td>\n",
       "      <td>8:46 AM</td>\n",
       "      <td>8:31 AM</td>\n",
       "      <td>8:37 AM</td>\n",
       "    </tr>\n",
       "    <tr>\n",
       "      <th>21</th>\n",
       "      <td>8:45 AM</td>\n",
       "      <td>8:45 AM</td>\n",
       "      <td>9:00 AM</td>\n",
       "      <td>8:57 AM</td>\n",
       "      <td>8:57 AM</td>\n",
       "      <td>8:50 AM</td>\n",
       "    </tr>\n",
       "    <tr>\n",
       "      <th>22</th>\n",
       "      <td>8:45 AM</td>\n",
       "      <td>8:50 AM</td>\n",
       "      <td>8:30 AM</td>\n",
       "      <td>8:45 AM</td>\n",
       "      <td>8:50 AM</td>\n",
       "      <td>8:10 AM</td>\n",
       "    </tr>\n",
       "  </tbody>\n",
       "</table>\n",
       "</div>"
      ],
      "text/plain": [
       "      day_0     day_1    day_2    day_3    day_4    day_5\n",
       "0   8:56 AM   9:00 AM  7:45 AM  7:45 AM  8:05 AM  7:45 AM\n",
       "1   8:40 AM   8:40 AM  8:30 AM  8:30 AM  8:45 AM  8:20 AM\n",
       "2   8:45 AM   8:20 AM  8:05 AM  8:00 AM  8:05 AM  8:00 AM\n",
       "3   8:40 AM   8:40 AM  8:40 AM  8:25 AM  8:40 AM  8:40 AM\n",
       "4   8:55 AM   8:50 AM  8:55 AM  8:10 AM  8:15 AM  8:05 AM\n",
       "5   8:45 AM   8:45 AM  8:45 AM  8:40 AM  8:30 AM  8:40 AM\n",
       "6   8:45 AM   8:54 AM  8:38 AM  8:40 AM  8:32 AM  8:41 AM\n",
       "7    absent  11:00 AM  8:35 AM  8:15 AM  8:10 AM  8:10 AM\n",
       "8   8:39 AM   8:13 AM  8:15 AM  8:12 AM  8:10 AM  8:00 AM\n",
       "9   9:00 AM   8:50 AM  8:50 AM  8:50 AM  8:40 AM  8:45 AM\n",
       "10  8:40 AM   8:50 AM  8:40 AM  8:34 AM  8:20 AM  8:30 AM\n",
       "11  8:15 AM   8:30 AM  8:13 AM  8:30 AM  7:45 AM  8:40 AM\n",
       "12  8:45 AM   8:55 AM  8:45 AM  8:45 AM  8:00 AM  8:45 AM\n",
       "13  8:45 AM   8:45 AM  8:05 AM  8:00 AM  8:00 AM  8:00 AM\n",
       "14  8:45 AM   8:45 AM  9:00 AM  9:00 AM  8:50 AM  9:00 AM\n",
       "15  8:15 AM   8:40 AM  8:25 AM  8:30 AM  7:30 AM  8:25 AM\n",
       "16  8:45 AM   8:40 AM  8:45 AM  8:55 AM  8:45 AM  8:45 AM\n",
       "17  8:45 AM   9:00 AM  9:00 AM  9:00 AM  9:00 AM  9:00 AM\n",
       "18  8:50 AM   8:50 AM  8:57 AM  8:42 AM  8:35 AM  8:30 AM\n",
       "19  8:15 AM   9:00 AM  8:35 AM  9:00 AM  8:58 AM  8:20 AM\n",
       "20  8:45 AM   8:35 AM  8:27 AM  8:46 AM  8:31 AM  8:37 AM\n",
       "21  8:45 AM   8:45 AM  9:00 AM  8:57 AM  8:57 AM  8:50 AM\n",
       "22  8:45 AM   8:50 AM  8:30 AM  8:45 AM  8:50 AM  8:10 AM"
      ]
     },
     "execution_count": 5,
     "metadata": {},
     "output_type": "execute_result"
    }
   ],
   "source": [
    "arrival_times"
   ]
  },
  {
   "cell_type": "code",
   "execution_count": 6,
   "metadata": {},
   "outputs": [],
   "source": [
    "import matplotlib.pyplot as plt\n",
    "\n",
    "%matplotlib inline"
   ]
  },
  {
   "cell_type": "code",
   "execution_count": 7,
   "metadata": {},
   "outputs": [],
   "source": [
    "plt.style.use('ggplot')"
   ]
  },
  {
   "cell_type": "code",
   "execution_count": 8,
   "metadata": {},
   "outputs": [],
   "source": [
    "def times_to_numbers(time):\n",
    "    \"\"\"Converts time string to N minutes since midnight and returns N.\"\"\"\n",
    "    \n",
    "    if type(time) == int:\n",
    "        #We assume our work is already done.\n",
    "        return time\n",
    "    elif time == 'absent':\n",
    "        #Pretend it's a 6 PM arrival to account for missed class time.\n",
    "        #540 = minutes from midnight to 9 AM. \n",
    "        #Applying this difference gives us the minutes early/late for class.\n",
    "        return (18 * 60) - 540\n",
    "    else:\n",
    "        time = time[:-3].split(':')\n",
    "        time = list(map(int, time))\n",
    "        hours = time[0] * 60\n",
    "        minutes = time[1]\n",
    "        minutes_early_or_late = (hours + minutes) - 540\n",
    "        return minutes_early_or_late"
   ]
  },
  {
   "cell_type": "code",
   "execution_count": 9,
   "metadata": {},
   "outputs": [],
   "source": [
    "y = []\n",
    "for day in arrival_times:\n",
    "    arrival_times[day] = arrival_times[day].apply(times_to_numbers)\n",
    "    y.append(arrival_times[day].mean())"
   ]
  },
  {
   "cell_type": "code",
   "execution_count": 10,
   "metadata": {},
   "outputs": [
    {
     "data": {
      "text/plain": [
       "['Day 0', 'Day 1', 'Day 2', 'Day 3', 'Day 4', 'Day 5']"
      ]
     },
     "execution_count": 10,
     "metadata": {},
     "output_type": "execute_result"
    }
   ],
   "source": [
    "x = ['Day {}'.format(day) for day in range(6)]\n",
    "x"
   ]
  },
  {
   "cell_type": "code",
   "execution_count": 11,
   "metadata": {},
   "outputs": [
    {
     "data": {
      "text/plain": [
       "<BarContainer object of 6 artists>"
      ]
     },
     "execution_count": 11,
     "metadata": {},
     "output_type": "execute_result"
    },
    {
     "data": {
      "image/png": "[encoded data removed]",
      "text/plain": [
       "<Figure size 432x432 with 1 Axes>"
      ]
     },
     "metadata": {},
     "output_type": "display_data"
    }
   ],
   "source": [
    "plt.figure(1, figsize=(6, 6))\n",
    "plt.title('Mean Minutes Early/Late For Class')\n",
    "plt.ylabel('Minutes Early/Late')\n",
    "plt.xlabel('Days')\n",
    "\n",
    "plt.bar(x, y, color = 'Blue')"
   ]
  },
  {
   "cell_type": "code",
   "execution_count": 12,
   "metadata": {},
   "outputs": [
    {
     "data": {
      "image/png": "[encoded data removed]",
      "text/plain": [
       "<Figure size 720x576 with 1 Axes>"
      ]
     },
     "metadata": {},
     "output_type": "display_data"
    }
   ],
   "source": [
    "plt.figure(1, figsize=(10, 8))\n",
    "plt.title('Frequency of Class Arrival Times')\n",
    "plt.ylabel('Number of People')\n",
    "plt.xlabel('Minutes Early/Late')\n",
    "\n",
    "for day in arrival_times:\n",
    "    plt.hist(arrival_times[day])"
   ]
  },
  {
   "cell_type": "code",
   "execution_count": null,
   "metadata": {},
   "outputs": [],
   "source": []
  }
 ],
 "metadata": {
  "kernelspec": {
   "display_name": "Python 3",
   "language": "python",
   "name": "python3"
  },
  "language_info": {
   "codemirror_mode": {
    "name": "ipython",
    "version": 3
   },
   "file_extension": ".py",
   "mimetype": "text/x-python",
   "name": "python",
   "nbconvert_exporter": "python",
   "pygments_lexer": "ipython3",
   "version": "3.7.1"
  }
 },
 "nbformat": 4,
 "nbformat_minor": 2
}
